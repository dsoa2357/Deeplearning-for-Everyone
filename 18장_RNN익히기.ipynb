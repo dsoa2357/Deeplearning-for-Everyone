{
  "nbformat": 4,
  "nbformat_minor": 0,
  "metadata": {
    "colab": {
      "name": "18장_RNN익히기.ipynb",
      "provenance": [],
      "collapsed_sections": [],
      "authorship_tag": "ABX9TyNr+XVnHDjUI/MJQPs/zG5S"
    },
    "kernelspec": {
      "name": "python3",
      "display_name": "Python 3"
    },
    "accelerator": "GPU"
  },
  "cells": [
    {
      "cell_type": "code",
      "metadata": {
        "id": "C3H-Fz7heAkq",
        "colab_type": "code",
        "colab": {
          "base_uri": "https://localhost:8080/",
          "height": 125
        },
        "outputId": "20a67a69-f5d1-464c-8fac-9e119babcf7b"
      },
      "source": [
        "from google.colab import drive\n",
        "drive.mount('/content/gdrive')"
      ],
      "execution_count": 1,
      "outputs": [
        {
          "output_type": "stream",
          "text": [
            "Go to this URL in a browser: https://accounts.google.com/o/oauth2/auth?client_id=947318989803-6bn6qk8qdgf4n4g3pfee6491hc0brc4i.apps.googleusercontent.com&redirect_uri=urn%3aietf%3awg%3aoauth%3a2.0%3aoob&scope=email%20https%3a%2f%2fwww.googleapis.com%2fauth%2fdocs.test%20https%3a%2f%2fwww.googleapis.com%2fauth%2fdrive%20https%3a%2f%2fwww.googleapis.com%2fauth%2fdrive.photos.readonly%20https%3a%2f%2fwww.googleapis.com%2fauth%2fpeopleapi.readonly&response_type=code\n",
            "\n",
            "Enter your authorization code:\n",
            "··········\n",
            "Mounted at /content/gdrive\n"
          ],
          "name": "stdout"
        }
      ]
    },
    {
      "cell_type": "code",
      "metadata": {
        "id": "7QmdeDzueD51",
        "colab_type": "code",
        "colab": {}
      },
      "source": [
        "# 로이터 뉴스 데이터셋 불러오기\n",
        "from keras.datasets import reuters\n",
        "from keras.models import Sequential\n",
        "from keras.layers import Dense, LSTM, Embedding\n",
        "from keras.preprocessing import sequence\n",
        "from keras.utils import np_utils\n",
        "\n",
        "import numpy as np\n",
        "import tensorflow as tf\n",
        "import matplotlib.pyplot as plt"
      ],
      "execution_count": 2,
      "outputs": []
    },
    {
      "cell_type": "code",
      "metadata": {
        "id": "UHcdfXD7UbYw",
        "colab_type": "code",
        "colab": {}
      },
      "source": [
        "# seed 값 설정\n",
        "seed = 0\n",
        "np.random.seed(seed)\n",
        "tf.random.set_seed(seed)"
      ],
      "execution_count": 3,
      "outputs": []
    },
    {
      "cell_type": "code",
      "metadata": {
        "id": "eUlN7gvkUm0y",
        "colab_type": "code",
        "colab": {
          "base_uri": "https://localhost:8080/",
          "height": 52
        },
        "outputId": "40f685c4-8e3e-408b-9c54-c720cc33e8a1"
      },
      "source": [
        "# 불러온 데이터를 학습셋, 테스트셋으로 나누기\n",
        "(X_train, Y_train), (X_test, Y_test) = reuters.load_data(num_words=1000, test_split=0.2)"
      ],
      "execution_count": 4,
      "outputs": [
        {
          "output_type": "stream",
          "text": [
            "Downloading data from https://storage.googleapis.com/tensorflow/tf-keras-datasets/reuters.npz\n",
            "2113536/2110848 [==============================] - 0s 0us/step\n"
          ],
          "name": "stdout"
        }
      ]
    },
    {
      "cell_type": "code",
      "metadata": {
        "id": "SjXVy6AnUryy",
        "colab_type": "code",
        "colab": {
          "base_uri": "https://localhost:8080/",
          "height": 107
        },
        "outputId": "18e975f8-8ae3-49b9-bedb-51772a8643a8"
      },
      "source": [
        "# 데이터 확인하기\n",
        "category = np.max(Y_train) + 1\n",
        "print(category, '카테고리')\n",
        "print(len(X_train), '학습용 뉴스 기사')\n",
        "print(len(X_test), '테스트용 뉴스 기사')\n",
        "print(X_train[0])"
      ],
      "execution_count": 5,
      "outputs": [
        {
          "output_type": "stream",
          "text": [
            "46 카테고리\n",
            "8982 학습용 뉴스 기사\n",
            "2246 테스트용 뉴스 기사\n",
            "[1, 2, 2, 8, 43, 10, 447, 5, 25, 207, 270, 5, 2, 111, 16, 369, 186, 90, 67, 7, 89, 5, 19, 102, 6, 19, 124, 15, 90, 67, 84, 22, 482, 26, 7, 48, 4, 49, 8, 864, 39, 209, 154, 6, 151, 6, 83, 11, 15, 22, 155, 11, 15, 7, 48, 9, 2, 2, 504, 6, 258, 6, 272, 11, 15, 22, 134, 44, 11, 15, 16, 8, 197, 2, 90, 67, 52, 29, 209, 30, 32, 132, 6, 109, 15, 17, 12]\n"
          ],
          "name": "stdout"
        }
      ]
    },
    {
      "cell_type": "code",
      "metadata": {
        "id": "EdpPatfwUr2W",
        "colab_type": "code",
        "colab": {}
      },
      "source": [
        "# 데이터 전처리\n",
        "x_train = sequence.pad_sequences(X_train, maxlen=100)\n",
        "x_test = sequence.pad_sequences(X_test, maxlen=100)\n",
        "\n",
        "y_train = np_utils.to_categorical(Y_train)\n",
        "y_test = np_utils.to_categorical(Y_test)"
      ],
      "execution_count": 6,
      "outputs": []
    },
    {
      "cell_type": "code",
      "metadata": {
        "id": "pzy6oxk4Vp6M",
        "colab_type": "code",
        "colab": {}
      },
      "source": [
        "# 모델의 설정\n",
        "model = Sequential()\n",
        "model.add(Embedding(1000, 100))\n",
        "model.add(LSTM(100, activation='tanh'))\n",
        "model.add(Dense(46, activation='softmax'))\n",
        "\n",
        "# 모델의 컴파일\n",
        "model.compile(loss='categorical_crossentropy',\n",
        "              optimizer='adam',\n",
        "              metrics=['accuracy'])"
      ],
      "execution_count": 7,
      "outputs": []
    },
    {
      "cell_type": "code",
      "metadata": {
        "id": "g6fBx3a0WQq0",
        "colab_type": "code",
        "colab": {
          "base_uri": "https://localhost:8080/",
          "height": 741
        },
        "outputId": "b06f9b9c-6fe5-48d4-ed8b-1647fd506c33"
      },
      "source": [
        "# 모델의 실행\n",
        "history = model.fit(x_train, y_train, batch_size=100, epochs=20, \n",
        "                    validation_data=(x_test, y_test))"
      ],
      "execution_count": 8,
      "outputs": [
        {
          "output_type": "stream",
          "text": [
            "Epoch 1/20\n",
            "90/90 [==============================] - 1s 16ms/step - loss: 2.5636 - accuracy: 0.3656 - val_loss: 2.1735 - val_accuracy: 0.4853\n",
            "Epoch 2/20\n",
            "90/90 [==============================] - 1s 12ms/step - loss: 2.0441 - accuracy: 0.4939 - val_loss: 1.9845 - val_accuracy: 0.5120\n",
            "Epoch 3/20\n",
            "90/90 [==============================] - 1s 12ms/step - loss: 1.9407 - accuracy: 0.5193 - val_loss: 1.8010 - val_accuracy: 0.5441\n",
            "Epoch 4/20\n",
            "90/90 [==============================] - 1s 12ms/step - loss: 1.8783 - accuracy: 0.5375 - val_loss: 1.8571 - val_accuracy: 0.5459\n",
            "Epoch 5/20\n",
            "90/90 [==============================] - 1s 12ms/step - loss: 1.7128 - accuracy: 0.5703 - val_loss: 1.6885 - val_accuracy: 0.5695\n",
            "Epoch 6/20\n",
            "90/90 [==============================] - 1s 12ms/step - loss: 1.5972 - accuracy: 0.5907 - val_loss: 1.6426 - val_accuracy: 0.5766\n",
            "Epoch 7/20\n",
            "90/90 [==============================] - 1s 12ms/step - loss: 1.5459 - accuracy: 0.6127 - val_loss: 1.5647 - val_accuracy: 0.6046\n",
            "Epoch 8/20\n",
            "90/90 [==============================] - 1s 12ms/step - loss: 1.4668 - accuracy: 0.6306 - val_loss: 1.5180 - val_accuracy: 0.6260\n",
            "Epoch 9/20\n",
            "90/90 [==============================] - 1s 12ms/step - loss: 1.3648 - accuracy: 0.6607 - val_loss: 1.4547 - val_accuracy: 0.6233\n",
            "Epoch 10/20\n",
            "90/90 [==============================] - 1s 12ms/step - loss: 1.2998 - accuracy: 0.6733 - val_loss: 1.3792 - val_accuracy: 0.6509\n",
            "Epoch 11/20\n",
            "90/90 [==============================] - 1s 12ms/step - loss: 1.2134 - accuracy: 0.6917 - val_loss: 1.4318 - val_accuracy: 0.6469\n",
            "Epoch 12/20\n",
            "90/90 [==============================] - 1s 12ms/step - loss: 1.1566 - accuracy: 0.7046 - val_loss: 1.3019 - val_accuracy: 0.6616\n",
            "Epoch 13/20\n",
            "90/90 [==============================] - 1s 12ms/step - loss: 1.0929 - accuracy: 0.7226 - val_loss: 1.2838 - val_accuracy: 0.6745\n",
            "Epoch 14/20\n",
            "90/90 [==============================] - 1s 12ms/step - loss: 1.0449 - accuracy: 0.7339 - val_loss: 1.2478 - val_accuracy: 0.6830\n",
            "Epoch 15/20\n",
            "90/90 [==============================] - 1s 12ms/step - loss: 0.9991 - accuracy: 0.7423 - val_loss: 1.2625 - val_accuracy: 0.6866\n",
            "Epoch 16/20\n",
            "90/90 [==============================] - 1s 12ms/step - loss: 0.9568 - accuracy: 0.7537 - val_loss: 1.2106 - val_accuracy: 0.6923\n",
            "Epoch 17/20\n",
            "90/90 [==============================] - 1s 12ms/step - loss: 0.9216 - accuracy: 0.7646 - val_loss: 1.2155 - val_accuracy: 0.6977\n",
            "Epoch 18/20\n",
            "90/90 [==============================] - 1s 12ms/step - loss: 0.8777 - accuracy: 0.7772 - val_loss: 1.2346 - val_accuracy: 0.6959\n",
            "Epoch 19/20\n",
            "90/90 [==============================] - 1s 12ms/step - loss: 0.8441 - accuracy: 0.7864 - val_loss: 1.2202 - val_accuracy: 0.7057\n",
            "Epoch 20/20\n",
            "90/90 [==============================] - 1s 12ms/step - loss: 0.8046 - accuracy: 0.7985 - val_loss: 1.2008 - val_accuracy: 0.7048\n"
          ],
          "name": "stdout"
        }
      ]
    },
    {
      "cell_type": "code",
      "metadata": {
        "id": "VdUWUXUmXqHr",
        "colab_type": "code",
        "colab": {
          "base_uri": "https://localhost:8080/",
          "height": 70
        },
        "outputId": "9ec6f27c-c6e2-4f31-888b-2e5bef60e2d9"
      },
      "source": [
        "# 테스트 정확도 출력\n",
        "print(\"\\n Test Accuracy: %.4f\" % (model.evaluate(x_test, y_test)[1]))"
      ],
      "execution_count": 9,
      "outputs": [
        {
          "output_type": "stream",
          "text": [
            "71/71 [==============================] - 0s 4ms/step - loss: 1.2008 - accuracy: 0.7048\n",
            "\n",
            " Test Accuracy: 0.7048\n"
          ],
          "name": "stdout"
        }
      ]
    },
    {
      "cell_type": "code",
      "metadata": {
        "id": "cEf2sOgfXqKH",
        "colab_type": "code",
        "colab": {
          "base_uri": "https://localhost:8080/",
          "height": 279
        },
        "outputId": "f355d85d-28ba-4ec4-9e1f-4de16000b790"
      },
      "source": [
        "# 테스트 셋의 오차\n",
        "y_vloss = history.history['val_loss']\n",
        "\n",
        "# 학습셋의 오차\n",
        "y_loss = history.history['loss']\n",
        "\n",
        "# 그래프로 표현\n",
        "x_len = np.arange(len(y_loss))\n",
        "plt.plot(x_len, y_vloss, marker='.', c=\"red\", label='Testset_loss')\n",
        "plt.plot(x_len, y_loss, marker='.', c=\"blue\", label='Trainset_loss')\n",
        "\n",
        "# 그래프에 그리드를 주고 레이블을 표시\n",
        "plt.legend(loc='upper right')\n",
        "plt.grid()\n",
        "plt.xlabel('epoch')\n",
        "plt.ylabel('loss')\n",
        "plt.show()"
      ],
      "execution_count": 11,
      "outputs": [
        {
          "output_type": "display_data",
          "data": {
            "image/png": "[encoded data removed]",
            "text/plain": [
              "<Figure size 432x288 with 1 Axes>"
            ]
          },
          "metadata": {
            "tags": [],
            "needs_background": "light"
          }
        }
      ]
    },
    {
      "cell_type": "code",
      "metadata": {
        "id": "MOI_9BRKXqNr",
        "colab_type": "code",
        "colab": {}
      },
      "source": [
        ""
      ],
      "execution_count": null,
      "outputs": []
    },
    {
      "cell_type": "markdown",
      "metadata": {
        "id": "TBTj5bLrcfXq",
        "colab_type": "text"
      },
      "source": [
        "#### LSTM과 CNN을 조합해 영화 리뷰 분류하기"
      ]
    },
    {
      "cell_type": "code",
      "metadata": {
        "id": "ephU4TpcckaX",
        "colab_type": "code",
        "colab": {}
      },
      "source": [
        "from keras.preprocessing import sequence\n",
        "from keras.models import Sequential\n",
        "from keras.layers import Dense, Dropout, Activation\n",
        "from keras.layers import Embedding\n",
        "from keras.layers import LSTM\n",
        "from keras.layers import Conv1D, MaxPooling1D\n",
        "from keras.datasets import imdb\n",
        "\n",
        "import numpy as np\n",
        "import tensorflow as tf\n",
        "import matplotlib.pyplot as plt"
      ],
      "execution_count": 12,
      "outputs": []
    },
    {
      "cell_type": "code",
      "metadata": {
        "id": "2wz_WW4bcqc9",
        "colab_type": "code",
        "colab": {}
      },
      "source": [
        "# seed 값 설정\n",
        "seed = 0\n",
        "np.random.seed(seed)\n",
        "tf.random.set_seed(seed)"
      ],
      "execution_count": 13,
      "outputs": []
    },
    {
      "cell_type": "code",
      "metadata": {
        "id": "BGPkr01Kk6p3",
        "colab_type": "code",
        "colab": {
          "base_uri": "https://localhost:8080/",
          "height": 52
        },
        "outputId": "22e0b906-be97-48b9-ba28-e6d1d660c33d"
      },
      "source": [
        "# 학습셋, 테스트셋 지정하기\n",
        "(x_train, y_train), (x_test, y_test) = imdb.load_data(num_words=5000)"
      ],
      "execution_count": 14,
      "outputs": [
        {
          "output_type": "stream",
          "text": [
            "Downloading data from https://storage.googleapis.com/tensorflow/tf-keras-datasets/imdb.npz\n",
            "17465344/17464789 [==============================] - 0s 0us/step\n"
          ],
          "name": "stdout"
        }
      ]
    },
    {
      "cell_type": "code",
      "metadata": {
        "id": "WDIc3hI7lVN8",
        "colab_type": "code",
        "colab": {}
      },
      "source": [
        "# 데이터 전처리\n",
        "x_train = sequence.pad_sequences(x_train, maxlen=100)\n",
        "x_test = sequence.pad_sequences(x_test, maxlen=100)"
      ],
      "execution_count": 15,
      "outputs": []
    },
    {
      "cell_type": "code",
      "metadata": {
        "id": "TFhm6bf4lX2D",
        "colab_type": "code",
        "colab": {}
      },
      "source": [
        "# 모델의 설정\n",
        "\n",
        "model = Sequential()\n",
        "model.add(Embedding(5000, 100))\n",
        "model.add(Dropout(0.5))\n",
        "model.add(Conv1D(64, 5, padding='valid', activation='relu',strides=1))\n",
        "model.add(MaxPooling1D(pool_size=4))\n",
        "model.add(LSTM(55))\n",
        "model.add(Dense(1))\n",
        "model.add(Activation('sigmoid'))"
      ],
      "execution_count": 17,
      "outputs": []
    },
    {
      "cell_type": "code",
      "metadata": {
        "id": "mO9wWToalkHE",
        "colab_type": "code",
        "colab": {
          "base_uri": "https://localhost:8080/",
          "height": 404
        },
        "outputId": "21cd9fb0-e0ad-4e73-b889-62c572ecc68d"
      },
      "source": [
        "model.summary()"
      ],
      "execution_count": 18,
      "outputs": [
        {
          "output_type": "stream",
          "text": [
            "Model: \"sequential_2\"\n",
            "_________________________________________________________________\n",
            "Layer (type)                 Output Shape              Param #   \n",
            "=================================================================\n",
            "embedding_2 (Embedding)      (None, None, 100)         500000    \n",
            "_________________________________________________________________\n",
            "dropout_1 (Dropout)          (None, None, 100)         0         \n",
            "_________________________________________________________________\n",
            "conv1d_1 (Conv1D)            (None, None, 64)          32064     \n",
            "_________________________________________________________________\n",
            "max_pooling1d_1 (MaxPooling1 (None, None, 64)          0         \n",
            "_________________________________________________________________\n",
            "lstm_2 (LSTM)                (None, 55)                26400     \n",
            "_________________________________________________________________\n",
            "dense_2 (Dense)              (None, 1)                 56        \n",
            "_________________________________________________________________\n",
            "activation_1 (Activation)    (None, 1)                 0         \n",
            "=================================================================\n",
            "Total params: 558,520\n",
            "Trainable params: 558,520\n",
            "Non-trainable params: 0\n",
            "_________________________________________________________________\n"
          ],
          "name": "stdout"
        }
      ]
    },
    {
      "cell_type": "code",
      "metadata": {
        "id": "HYKxe_HmlbiS",
        "colab_type": "code",
        "colab": {}
      },
      "source": [
        "# 모델의 컴파일\n",
        "model.compile(loss='binary_crossentropy',\n",
        "              optimizer='adam',\n",
        "              metrics=['accuracy'])"
      ],
      "execution_count": 19,
      "outputs": []
    },
    {
      "cell_type": "code",
      "metadata": {
        "id": "8N4TUwVWlqSr",
        "colab_type": "code",
        "colab": {
          "base_uri": "https://localhost:8080/",
          "height": 213
        },
        "outputId": "8faecb26-763f-4786-a454-fc64ec5bb4ae"
      },
      "source": [
        "# 모델의 실행\n",
        "history = model.fit(x_train, y_train, batch_size=100, epochs=5, validation_data=(x_test, y_test))"
      ],
      "execution_count": 20,
      "outputs": [
        {
          "output_type": "stream",
          "text": [
            "Epoch 1/5\n",
            "250/250 [==============================] - 4s 17ms/step - loss: 0.4521 - accuracy: 0.7691 - val_loss: 0.3323 - val_accuracy: 0.8537\n",
            "Epoch 2/5\n",
            "250/250 [==============================] - 4s 14ms/step - loss: 0.2936 - accuracy: 0.8764 - val_loss: 0.3240 - val_accuracy: 0.8576\n",
            "Epoch 3/5\n",
            "250/250 [==============================] - 4s 14ms/step - loss: 0.2472 - accuracy: 0.8988 - val_loss: 0.3448 - val_accuracy: 0.8530\n",
            "Epoch 4/5\n",
            "250/250 [==============================] - 4s 14ms/step - loss: 0.2130 - accuracy: 0.9174 - val_loss: 0.3516 - val_accuracy: 0.8534\n",
            "Epoch 5/5\n",
            "250/250 [==============================] - 4s 14ms/step - loss: 0.1832 - accuracy: 0.9299 - val_loss: 0.3471 - val_accuracy: 0.8533\n"
          ],
          "name": "stdout"
        }
      ]
    },
    {
      "cell_type": "code",
      "metadata": {
        "id": "2CG7mCVDlx3E",
        "colab_type": "code",
        "colab": {
          "base_uri": "https://localhost:8080/",
          "height": 70
        },
        "outputId": "dd8d3051-8661-4c41-cee1-c8fd1b1e2064"
      },
      "source": [
        "# 테스트 정확도 출력\n",
        "print(\"\\n Test Accuracy: %.4f\" % (model.evaluate(x_test, y_test)[1]))"
      ],
      "execution_count": 21,
      "outputs": [
        {
          "output_type": "stream",
          "text": [
            "782/782 [==============================] - 3s 3ms/step - loss: 0.3471 - accuracy: 0.8533\n",
            "\n",
            " Test Accuracy: 0.8533\n"
          ],
          "name": "stdout"
        }
      ]
    },
    {
      "cell_type": "code",
      "metadata": {
        "id": "jwvEKpq6m0aT",
        "colab_type": "code",
        "colab": {
          "base_uri": "https://localhost:8080/",
          "height": 279
        },
        "outputId": "4e340a64-8260-41cb-f28d-09b96cf4c07b"
      },
      "source": [
        "# 테스트 셋의 오차\n",
        "y_vloss = history.history['val_loss']\n",
        "\n",
        "# 학습셋의 오차\n",
        "y_loss = history.history['loss']\n",
        "\n",
        "# 그래프로 표현\n",
        "x_len = np.arange(len(y_loss))\n",
        "plt.plot(x_len, y_vloss, marker='.', c=\"red\", label='Testset_loss')\n",
        "plt.plot(x_len, y_loss, marker='.', c=\"blue\", label='Trainset_loss')\n",
        "\n",
        "# 그래프에 그리드를 주고 레이블을 표시\n",
        "plt.legend(loc='upper right')\n",
        "plt.grid()\n",
        "plt.xlabel('epoch')\n",
        "plt.ylabel('loss')\n",
        "plt.show()"
      ],
      "execution_count": 23,
      "outputs": [
        {
          "output_type": "display_data",
          "data": {
            "image/png": "[encoded data removed]",
            "text/plain": [
              "<Figure size 432x288 with 1 Axes>"
            ]
          },
          "metadata": {
            "tags": [],
            "needs_background": "light"
          }
        }
      ]
    }
  ]
}