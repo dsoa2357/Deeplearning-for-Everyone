{
  "nbformat": 4,
  "nbformat_minor": 0,
  "metadata": {
    "colab": {
      "name": "Credit_card.ipynb",
      "provenance": [],
      "collapsed_sections": [],
      "authorship_tag": "ABX9TyPeOQ41hHyVmIDB4CzXxUbW"
    },
    "kernelspec": {
      "name": "python3",
      "display_name": "Python 3"
    }
  },
  "cells": [
    {
      "cell_type": "code",
      "metadata": {
        "id": "mnfXEhLYY7gH",
        "colab_type": "code",
        "colab": {
          "base_uri": "https://localhost:8080/",
          "height": 54
        },
        "outputId": "e836ba58-e05a-4c64-aec2-e361ff5b9967"
      },
      "source": [
        "from google.colab import drive\n",
        "drive.mount('/content/gdrive')"
      ],
      "execution_count": 1,
      "outputs": [
        {
          "output_type": "stream",
          "text": [
            "Drive already mounted at /content/gdrive; to attempt to forcibly remount, call drive.mount(\"/content/gdrive\", force_remount=True).\n"
          ],
          "name": "stdout"
        }
      ]
    },
    {
      "cell_type": "code",
      "metadata": {
        "id": "6OZYyRPIOGz-",
        "colab_type": "code",
        "colab": {}
      },
      "source": [
        "import pandas as pd\n",
        "df = pd.read_csv(\"/content/gdrive/My Drive/deepLearning/data/credit_card_data.csv\", \n",
        "                 names = [\"Student\", \"Income\", \"Balance\", \"Default\"])"
      ],
      "execution_count": 2,
      "outputs": []
    },
    {
      "cell_type": "code",
      "metadata": {
        "id": "oZ2MxyHLO5Ih",
        "colab_type": "code",
        "colab": {
          "base_uri": "https://localhost:8080/",
          "height": 122
        },
        "outputId": "3bc72965-f1b8-4160-adef-0f6f926f2549"
      },
      "source": [
        "print(df.head())"
      ],
      "execution_count": 3,
      "outputs": [
        {
          "output_type": "stream",
          "text": [
            "   Student       Income      Balance  Default\n",
            "0        0   729.526495  44361.62507        0\n",
            "1        1   817.180407  12106.13470        0\n",
            "2        0  1073.549164  31767.13895        0\n",
            "3        1   529.250605  35704.49394        0\n",
            "4        0   785.655883  38463.49588        0\n"
          ],
          "name": "stdout"
        }
      ]
    },
    {
      "cell_type": "code",
      "metadata": {
        "id": "X2ntfvYSO5hi",
        "colab_type": "code",
        "colab": {
          "base_uri": "https://localhost:8080/",
          "height": 228
        },
        "outputId": "dfd5dcb4-41d4-45e9-a6d1-0d2731a64f97"
      },
      "source": [
        "print(df.info())"
      ],
      "execution_count": 4,
      "outputs": [
        {
          "output_type": "stream",
          "text": [
            "<class 'pandas.core.frame.DataFrame'>\n",
            "RangeIndex: 10000 entries, 0 to 9999\n",
            "Data columns (total 4 columns):\n",
            " #   Column   Non-Null Count  Dtype  \n",
            "---  ------   --------------  -----  \n",
            " 0   Student  10000 non-null  int64  \n",
            " 1   Income   10000 non-null  float64\n",
            " 2   Balance  10000 non-null  float64\n",
            " 3   Default  10000 non-null  int64  \n",
            "dtypes: float64(2), int64(2)\n",
            "memory usage: 312.6 KB\n",
            "None\n"
          ],
          "name": "stdout"
        }
      ]
    },
    {
      "cell_type": "code",
      "metadata": {
        "id": "sxsh41zBO5kj",
        "colab_type": "code",
        "colab": {
          "base_uri": "https://localhost:8080/",
          "height": 72
        },
        "outputId": "b3df9a4d-086f-4b9e-ea9f-343703e3c06c"
      },
      "source": [
        "import matplotlib.pyplot as plt\n",
        "import seaborn as sns"
      ],
      "execution_count": 5,
      "outputs": [
        {
          "output_type": "stream",
          "text": [
            "/usr/local/lib/python3.6/dist-packages/statsmodels/tools/_testing.py:19: FutureWarning: pandas.util.testing is deprecated. Use the functions in the public API at pandas.testing instead.\n",
            "  import pandas.util.testing as tm\n"
          ],
          "name": "stderr"
        }
      ]
    },
    {
      "cell_type": "code",
      "metadata": {
        "id": "lWKvpg1fO5oJ",
        "colab_type": "code",
        "colab": {
          "base_uri": "https://localhost:8080/",
          "height": 342
        },
        "outputId": "371ac2fa-7d47-460a-e27a-4eb14b975062"
      },
      "source": [
        "plt.figure(figsize=(5,5))\n",
        "sns.heatmap(df.corr(), linewidths=0.1, vmax=0.5, cmap=plt.cm.gist_heat, linecolor='white', annot=True)"
      ],
      "execution_count": 6,
      "outputs": [
        {
          "output_type": "execute_result",
          "data": {
            "text/plain": [
              "<matplotlib.axes._subplots.AxesSubplot at 0x7f60f03ab860>"
            ]
          },
          "metadata": {
            "tags": []
          },
          "execution_count": 6
        },
        {
          "output_type": "display_data",
          "data": {
            "image/png": "[encoded data removed]",
            "text/plain": [
              "<Figure size 360x360 with 2 Axes>"
            ]
          },
          "metadata": {
            "tags": [],
            "needs_background": "light"
          }
        }
      ]
    },
    {
      "cell_type": "code",
      "metadata": {
        "id": "7zIoEkrTP7__",
        "colab_type": "code",
        "colab": {
          "base_uri": "https://localhost:8080/",
          "height": 242
        },
        "outputId": "a20e2ae6-049a-4a82-8660-3635a7d4a785"
      },
      "source": [
        "grid = sns.FacetGrid(df, col='Default')\n",
        "grid.map(plt.hist, 'Income', bins=10)\n",
        "plt.show"
      ],
      "execution_count": 7,
      "outputs": [
        {
          "output_type": "execute_result",
          "data": {
            "text/plain": [
              "<function matplotlib.pyplot.show>"
            ]
          },
          "metadata": {
            "tags": []
          },
          "execution_count": 7
        },
        {
          "output_type": "display_data",
          "data": {
            "image/png": "[encoded data removed]",
            "text/plain": [
              "<Figure size 432x216 with 2 Axes>"
            ]
          },
          "metadata": {
            "tags": [],
            "needs_background": "light"
          }
        }
      ]
    },
    {
      "cell_type": "code",
      "metadata": {
        "id": "nCb_j3LIrjya",
        "colab_type": "code",
        "colab": {}
      },
      "source": [
        "from keras.models import Sequential\n",
        "from keras.layers import Dense\n",
        "import numpy as np\n",
        "import tensorflow as tf"
      ],
      "execution_count": 8,
      "outputs": []
    },
    {
      "cell_type": "code",
      "metadata": {
        "id": "lczzc0uDr_fJ",
        "colab_type": "code",
        "colab": {}
      },
      "source": [
        "seed = 0\n",
        "np.random.seed(seed)\n",
        "tf.random.set_seed(seed)"
      ],
      "execution_count": 9,
      "outputs": []
    },
    {
      "cell_type": "code",
      "metadata": {
        "id": "BFZPB5IXsYJu",
        "colab_type": "code",
        "colab": {}
      },
      "source": [
        "dataset = np.loadtxt(\"/content/gdrive/My Drive/deepLearning/data/credit_card_data.csv\", delimiter=\",\")\n",
        "X = dataset[:,0:3]\n",
        "Y = dataset[:,3]"
      ],
      "execution_count": 10,
      "outputs": []
    },
    {
      "cell_type": "code",
      "metadata": {
        "id": "ZmaYcZW3tH5-",
        "colab_type": "code",
        "colab": {}
      },
      "source": [
        "model = Sequential()\n",
        "model.add(Dense(99, input_dim=3, activation='relu'))\n",
        "model.add(Dense(3, activation='relu'))\n",
        "model.add(Dense(1, activation='sigmoid'))"
      ],
      "execution_count": 11,
      "outputs": []
    },
    {
      "cell_type": "code",
      "metadata": {
        "id": "RYHddGz7uoK1",
        "colab_type": "code",
        "colab": {}
      },
      "source": [
        "model.compile(loss='binary_crossentropy', optimizer='adam', metrics=['accuracy'])"
      ],
      "execution_count": 12,
      "outputs": []
    },
    {
      "cell_type": "code",
      "metadata": {
        "id": "OduB6FdWvMLu",
        "colab_type": "code",
        "colab": {
          "base_uri": "https://localhost:8080/",
          "height": 1000
        },
        "outputId": "735cea47-572a-445b-a09b-73ba938f40eb"
      },
      "source": [
        "model.fit(X, Y, epochs=100, batch_size=10)"
      ],
      "execution_count": 13,
      "outputs": [
        {
          "output_type": "stream",
          "text": [
            "Epoch 1/100\n",
            "1000/1000 [==============================] - 1s 1ms/step - loss: 0.5215 - accuracy: 0.9646\n",
            "Epoch 2/100\n",
            "1000/1000 [==============================] - 1s 1ms/step - loss: 0.3008 - accuracy: 0.9667\n",
            "Epoch 3/100\n",
            "1000/1000 [==============================] - 1s 1ms/step - loss: 0.2125 - accuracy: 0.9667\n",
            "Epoch 4/100\n",
            "1000/1000 [==============================] - 1s 1ms/step - loss: 0.1739 - accuracy: 0.9667\n",
            "Epoch 5/100\n",
            "1000/1000 [==============================] - 1s 1ms/step - loss: 0.1571 - accuracy: 0.9667\n",
            "Epoch 6/100\n",
            "1000/1000 [==============================] - 1s 1ms/step - loss: 0.1501 - accuracy: 0.9667\n",
            "Epoch 7/100\n",
            "1000/1000 [==============================] - 1s 1ms/step - loss: 0.1474 - accuracy: 0.9667\n",
            "Epoch 8/100\n",
            "1000/1000 [==============================] - 1s 1ms/step - loss: 0.1465 - accuracy: 0.9667\n",
            "Epoch 9/100\n",
            "1000/1000 [==============================] - 1s 1ms/step - loss: 0.1462 - accuracy: 0.9667\n",
            "Epoch 10/100\n",
            "1000/1000 [==============================] - 1s 1ms/step - loss: 0.1461 - accuracy: 0.9667\n",
            "Epoch 11/100\n",
            "1000/1000 [==============================] - 1s 1ms/step - loss: 0.1461 - accuracy: 0.9667\n",
            "Epoch 12/100\n",
            "1000/1000 [==============================] - 1s 1ms/step - loss: 0.1461 - accuracy: 0.9667\n",
            "Epoch 13/100\n",
            "1000/1000 [==============================] - 1s 1ms/step - loss: 0.1461 - accuracy: 0.9667\n",
            "Epoch 14/100\n",
            "1000/1000 [==============================] - 1s 1ms/step - loss: 0.1461 - accuracy: 0.9667\n",
            "Epoch 15/100\n",
            "1000/1000 [==============================] - 1s 1ms/step - loss: 0.1461 - accuracy: 0.9667\n",
            "Epoch 16/100\n",
            "1000/1000 [==============================] - 1s 1ms/step - loss: 0.1461 - accuracy: 0.9667\n",
            "Epoch 17/100\n",
            "1000/1000 [==============================] - 1s 1ms/step - loss: 0.1461 - accuracy: 0.9667\n",
            "Epoch 18/100\n",
            "1000/1000 [==============================] - 1s 1ms/step - loss: 0.1461 - accuracy: 0.9667\n",
            "Epoch 19/100\n",
            "1000/1000 [==============================] - 1s 1ms/step - loss: 0.1461 - accuracy: 0.9667\n",
            "Epoch 20/100\n",
            "1000/1000 [==============================] - 1s 1ms/step - loss: 0.1461 - accuracy: 0.9667\n",
            "Epoch 21/100\n",
            "1000/1000 [==============================] - 1s 1ms/step - loss: 0.1461 - accuracy: 0.9667\n",
            "Epoch 22/100\n",
            "1000/1000 [==============================] - 1s 1ms/step - loss: 0.1461 - accuracy: 0.9667\n",
            "Epoch 23/100\n",
            "1000/1000 [==============================] - 1s 1ms/step - loss: 0.1461 - accuracy: 0.9667\n",
            "Epoch 24/100\n",
            "1000/1000 [==============================] - 1s 1ms/step - loss: 0.1461 - accuracy: 0.9667\n",
            "Epoch 25/100\n",
            "1000/1000 [==============================] - 1s 1ms/step - loss: 0.1461 - accuracy: 0.9667\n",
            "Epoch 26/100\n",
            "1000/1000 [==============================] - 1s 1ms/step - loss: 0.1461 - accuracy: 0.9667\n",
            "Epoch 27/100\n",
            "1000/1000 [==============================] - 1s 1ms/step - loss: 0.1461 - accuracy: 0.9667\n",
            "Epoch 28/100\n",
            "1000/1000 [==============================] - 1s 1ms/step - loss: 0.1461 - accuracy: 0.9667\n",
            "Epoch 29/100\n",
            "1000/1000 [==============================] - 1s 1ms/step - loss: 0.1461 - accuracy: 0.9667\n",
            "Epoch 30/100\n",
            "1000/1000 [==============================] - 1s 1ms/step - loss: 0.1461 - accuracy: 0.9667\n",
            "Epoch 31/100\n",
            "1000/1000 [==============================] - 1s 1ms/step - loss: 0.1461 - accuracy: 0.9667\n",
            "Epoch 32/100\n",
            "1000/1000 [==============================] - 1s 1ms/step - loss: 0.1461 - accuracy: 0.9667\n",
            "Epoch 33/100\n",
            "1000/1000 [==============================] - 1s 1ms/step - loss: 0.1461 - accuracy: 0.9667\n",
            "Epoch 34/100\n",
            "1000/1000 [==============================] - 1s 1ms/step - loss: 0.1461 - accuracy: 0.9667\n",
            "Epoch 35/100\n",
            "1000/1000 [==============================] - 1s 1ms/step - loss: 0.1461 - accuracy: 0.9667\n",
            "Epoch 36/100\n",
            "1000/1000 [==============================] - 1s 1ms/step - loss: 0.1461 - accuracy: 0.9667\n",
            "Epoch 37/100\n",
            "1000/1000 [==============================] - 1s 1ms/step - loss: 0.1461 - accuracy: 0.9667\n",
            "Epoch 38/100\n",
            "1000/1000 [==============================] - 1s 1ms/step - loss: 0.1461 - accuracy: 0.9667\n",
            "Epoch 39/100\n",
            "1000/1000 [==============================] - 1s 1ms/step - loss: 0.1461 - accuracy: 0.9667\n",
            "Epoch 40/100\n",
            "1000/1000 [==============================] - 1s 1ms/step - loss: 0.1461 - accuracy: 0.9667\n",
            "Epoch 41/100\n",
            "1000/1000 [==============================] - 1s 1ms/step - loss: 0.1461 - accuracy: 0.9667\n",
            "Epoch 42/100\n",
            "1000/1000 [==============================] - 1s 1ms/step - loss: 0.1461 - accuracy: 0.9667\n",
            "Epoch 43/100\n",
            "1000/1000 [==============================] - 1s 1ms/step - loss: 0.1461 - accuracy: 0.9667\n",
            "Epoch 44/100\n",
            "1000/1000 [==============================] - 1s 1ms/step - loss: 0.1461 - accuracy: 0.9667\n",
            "Epoch 45/100\n",
            "1000/1000 [==============================] - 1s 1ms/step - loss: 0.1461 - accuracy: 0.9667\n",
            "Epoch 46/100\n",
            "1000/1000 [==============================] - 1s 1ms/step - loss: 0.1461 - accuracy: 0.9667\n",
            "Epoch 47/100\n",
            "1000/1000 [==============================] - 1s 1ms/step - loss: 0.1461 - accuracy: 0.9667\n",
            "Epoch 48/100\n",
            "1000/1000 [==============================] - 1s 1ms/step - loss: 0.1461 - accuracy: 0.9667\n",
            "Epoch 49/100\n",
            "1000/1000 [==============================] - 1s 1ms/step - loss: 0.1460 - accuracy: 0.9667\n",
            "Epoch 50/100\n",
            "1000/1000 [==============================] - 1s 1ms/step - loss: 0.1461 - accuracy: 0.9667\n",
            "Epoch 51/100\n",
            "1000/1000 [==============================] - 1s 1ms/step - loss: 0.1461 - accuracy: 0.9667\n",
            "Epoch 52/100\n",
            "1000/1000 [==============================] - 1s 1ms/step - loss: 0.1461 - accuracy: 0.9667\n",
            "Epoch 53/100\n",
            "1000/1000 [==============================] - 1s 1ms/step - loss: 0.1461 - accuracy: 0.9667\n",
            "Epoch 54/100\n",
            "1000/1000 [==============================] - 1s 1ms/step - loss: 0.1461 - accuracy: 0.9667\n",
            "Epoch 55/100\n",
            "1000/1000 [==============================] - 1s 1ms/step - loss: 0.1461 - accuracy: 0.9667\n",
            "Epoch 56/100\n",
            "1000/1000 [==============================] - 1s 1ms/step - loss: 0.1461 - accuracy: 0.9667\n",
            "Epoch 57/100\n",
            "1000/1000 [==============================] - 1s 1ms/step - loss: 0.1461 - accuracy: 0.9667\n",
            "Epoch 58/100\n",
            "1000/1000 [==============================] - 1s 1ms/step - loss: 0.1461 - accuracy: 0.9667\n",
            "Epoch 59/100\n",
            "1000/1000 [==============================] - 1s 1ms/step - loss: 0.1461 - accuracy: 0.9667\n",
            "Epoch 60/100\n",
            "1000/1000 [==============================] - 1s 1ms/step - loss: 0.1461 - accuracy: 0.9667\n",
            "Epoch 61/100\n",
            "1000/1000 [==============================] - 1s 1ms/step - loss: 0.1461 - accuracy: 0.9667\n",
            "Epoch 62/100\n",
            "1000/1000 [==============================] - 1s 1ms/step - loss: 0.1461 - accuracy: 0.9667\n",
            "Epoch 63/100\n",
            "1000/1000 [==============================] - 1s 1ms/step - loss: 0.1461 - accuracy: 0.9667\n",
            "Epoch 64/100\n",
            "1000/1000 [==============================] - 1s 1ms/step - loss: 0.1461 - accuracy: 0.9667\n",
            "Epoch 65/100\n",
            "1000/1000 [==============================] - 1s 1ms/step - loss: 0.1461 - accuracy: 0.9667\n",
            "Epoch 66/100\n",
            "1000/1000 [==============================] - 1s 1ms/step - loss: 0.1461 - accuracy: 0.9667\n",
            "Epoch 67/100\n",
            "1000/1000 [==============================] - 1s 1ms/step - loss: 0.1461 - accuracy: 0.9667\n",
            "Epoch 68/100\n",
            "1000/1000 [==============================] - 1s 1ms/step - loss: 0.1461 - accuracy: 0.9667\n",
            "Epoch 69/100\n",
            "1000/1000 [==============================] - 1s 1ms/step - loss: 0.1461 - accuracy: 0.9667\n",
            "Epoch 70/100\n",
            "1000/1000 [==============================] - 1s 1ms/step - loss: 0.1461 - accuracy: 0.9667\n",
            "Epoch 71/100\n",
            "1000/1000 [==============================] - 1s 1ms/step - loss: 0.1461 - accuracy: 0.9667\n",
            "Epoch 72/100\n",
            "1000/1000 [==============================] - 1s 1ms/step - loss: 0.1461 - accuracy: 0.9667\n",
            "Epoch 73/100\n",
            "1000/1000 [==============================] - 1s 1ms/step - loss: 0.1461 - accuracy: 0.9667\n",
            "Epoch 74/100\n",
            "1000/1000 [==============================] - 1s 1ms/step - loss: 0.1461 - accuracy: 0.9667\n",
            "Epoch 75/100\n",
            "1000/1000 [==============================] - 1s 1ms/step - loss: 0.1461 - accuracy: 0.9667\n",
            "Epoch 76/100\n",
            "1000/1000 [==============================] - 1s 1ms/step - loss: 0.1461 - accuracy: 0.9667\n",
            "Epoch 77/100\n",
            "1000/1000 [==============================] - 1s 1ms/step - loss: 0.1461 - accuracy: 0.9667\n",
            "Epoch 78/100\n",
            "1000/1000 [==============================] - 1s 1ms/step - loss: 0.1461 - accuracy: 0.9667\n",
            "Epoch 79/100\n",
            "1000/1000 [==============================] - 1s 1ms/step - loss: 0.1461 - accuracy: 0.9667\n",
            "Epoch 80/100\n",
            "1000/1000 [==============================] - 1s 1ms/step - loss: 0.1461 - accuracy: 0.9667\n",
            "Epoch 81/100\n",
            "1000/1000 [==============================] - 1s 1ms/step - loss: 0.1461 - accuracy: 0.9667\n",
            "Epoch 82/100\n",
            "1000/1000 [==============================] - 1s 1ms/step - loss: 0.1461 - accuracy: 0.9667\n",
            "Epoch 83/100\n",
            "1000/1000 [==============================] - 1s 1ms/step - loss: 0.1461 - accuracy: 0.9667\n",
            "Epoch 84/100\n",
            "1000/1000 [==============================] - 1s 1ms/step - loss: 0.1460 - accuracy: 0.9667\n",
            "Epoch 85/100\n",
            "1000/1000 [==============================] - 1s 1ms/step - loss: 0.1461 - accuracy: 0.9667\n",
            "Epoch 86/100\n",
            "1000/1000 [==============================] - 1s 1ms/step - loss: 0.1461 - accuracy: 0.9667\n",
            "Epoch 87/100\n",
            "1000/1000 [==============================] - 1s 1ms/step - loss: 0.1461 - accuracy: 0.9667\n",
            "Epoch 88/100\n",
            "1000/1000 [==============================] - 1s 1ms/step - loss: 0.1461 - accuracy: 0.9667\n",
            "Epoch 89/100\n",
            "1000/1000 [==============================] - 1s 1ms/step - loss: 0.1461 - accuracy: 0.9667\n",
            "Epoch 90/100\n",
            "1000/1000 [==============================] - 1s 1ms/step - loss: 0.1461 - accuracy: 0.9667\n",
            "Epoch 91/100\n",
            "1000/1000 [==============================] - 1s 1ms/step - loss: 0.1461 - accuracy: 0.9667\n",
            "Epoch 92/100\n",
            "1000/1000 [==============================] - 1s 1ms/step - loss: 0.1461 - accuracy: 0.9667\n",
            "Epoch 93/100\n",
            "1000/1000 [==============================] - 1s 1ms/step - loss: 0.1461 - accuracy: 0.9667\n",
            "Epoch 94/100\n",
            "1000/1000 [==============================] - 1s 1ms/step - loss: 0.1461 - accuracy: 0.9667\n",
            "Epoch 95/100\n",
            "1000/1000 [==============================] - 1s 1ms/step - loss: 0.1461 - accuracy: 0.9667\n",
            "Epoch 96/100\n",
            "1000/1000 [==============================] - 1s 1ms/step - loss: 0.1461 - accuracy: 0.9667\n",
            "Epoch 97/100\n",
            "1000/1000 [==============================] - 1s 1ms/step - loss: 0.1461 - accuracy: 0.9667\n",
            "Epoch 98/100\n",
            "1000/1000 [==============================] - 1s 1ms/step - loss: 0.1461 - accuracy: 0.9667\n",
            "Epoch 99/100\n",
            "1000/1000 [==============================] - 1s 1ms/step - loss: 0.1461 - accuracy: 0.9667\n",
            "Epoch 100/100\n",
            "1000/1000 [==============================] - 1s 1ms/step - loss: 0.1461 - accuracy: 0.9667\n"
          ],
          "name": "stdout"
        },
        {
          "output_type": "execute_result",
          "data": {
            "text/plain": [
              "<tensorflow.python.keras.callbacks.History at 0x7f60bff665f8>"
            ]
          },
          "metadata": {
            "tags": []
          },
          "execution_count": 13
        }
      ]
    },
    {
      "cell_type": "code",
      "metadata": {
        "id": "eGu1G3FxvVqi",
        "colab_type": "code",
        "colab": {
          "base_uri": "https://localhost:8080/",
          "height": 52
        },
        "outputId": "8a213390-7982-4e48-ecb6-9393f2dc981f"
      },
      "source": [
        "print(\"Accuracy : %.4f\" %(model.evaluate(X, Y)[1]))"
      ],
      "execution_count": 14,
      "outputs": [
        {
          "output_type": "stream",
          "text": [
            "313/313 [==============================] - 0s 954us/step - loss: 0.1460 - accuracy: 0.9667\n",
            "Accuracy : 0.9667\n"
          ],
          "name": "stdout"
        }
      ]
    }
  ]
}